{
 "cells": [
  {
   "cell_type": "code",
   "execution_count": 1,
   "id": "3817be04",
   "metadata": {},
   "outputs": [
    {
     "name": "stdout",
     "output_type": "stream",
     "text": [
      "Defaulting to user installation because normal site-packages is not writeable\n",
      "Looking in indexes: https://download.pytorch.org/whl/cpu\n",
      "Requirement already satisfied: torch in /home/kunal/.local/lib/python3.12/site-packages (2.9.0+cpu)\n",
      "Requirement already satisfied: torchvision in /home/kunal/.local/lib/python3.12/site-packages (0.24.0+cpu)\n",
      "Requirement already satisfied: torchaudio in /home/kunal/.local/lib/python3.12/site-packages (2.9.0+cpu)\n",
      "Requirement already satisfied: transformers in /home/kunal/.local/lib/python3.12/site-packages (4.57.1)\n",
      "Requirement already satisfied: filelock in /home/kunal/.local/lib/python3.12/site-packages (from torch) (3.19.1)\n",
      "Requirement already satisfied: typing-extensions>=4.10.0 in /home/kunal/.local/lib/python3.12/site-packages (from torch) (4.15.0)\n",
      "Requirement already satisfied: setuptools in /home/kunal/.local/lib/python3.12/site-packages (from torch) (80.9.0)\n",
      "Requirement already satisfied: sympy>=1.13.3 in /home/kunal/.local/lib/python3.12/site-packages (from torch) (1.14.0)\n",
      "Requirement already satisfied: networkx>=2.5.1 in /home/kunal/.local/lib/python3.12/site-packages (from torch) (3.5)\n",
      "Requirement already satisfied: jinja2 in /home/kunal/.local/lib/python3.12/site-packages (from torch) (3.1.6)\n",
      "Requirement already satisfied: fsspec>=0.8.5 in /home/kunal/.local/lib/python3.12/site-packages (from torch) (2025.9.0)\n",
      "Requirement already satisfied: numpy in /home/kunal/.local/lib/python3.12/site-packages (from torchvision) (2.3.4)\n",
      "Requirement already satisfied: pillow!=8.3.*,>=5.3.0 in /usr/lib/python3/dist-packages (from torchvision) (10.2.0)\n",
      "Requirement already satisfied: huggingface-hub<1.0,>=0.34.0 in /home/kunal/.local/lib/python3.12/site-packages (from transformers) (0.35.3)\n",
      "Requirement already satisfied: packaging>=20.0 in /home/kunal/.local/lib/python3.12/site-packages (from transformers) (25.0)\n",
      "Requirement already satisfied: pyyaml>=5.1 in /home/kunal/.local/lib/python3.12/site-packages (from transformers) (6.0.3)\n",
      "Requirement already satisfied: regex!=2019.12.17 in /home/kunal/.local/lib/python3.12/site-packages (from transformers) (2025.9.18)\n",
      "Requirement already satisfied: requests in /home/kunal/.local/lib/python3.12/site-packages (from transformers) (2.32.5)\n",
      "Requirement already satisfied: tokenizers<=0.23.0,>=0.22.0 in /home/kunal/.local/lib/python3.12/site-packages (from transformers) (0.22.1)\n",
      "Requirement already satisfied: safetensors>=0.4.3 in /home/kunal/.local/lib/python3.12/site-packages (from transformers) (0.6.2)\n",
      "Requirement already satisfied: tqdm>=4.27 in /home/kunal/.local/lib/python3.12/site-packages (from transformers) (4.67.1)\n",
      "Requirement already satisfied: hf-xet<2.0.0,>=1.1.3 in /home/kunal/.local/lib/python3.12/site-packages (from huggingface-hub<1.0,>=0.34.0->transformers) (1.1.10)\n",
      "Requirement already satisfied: mpmath<1.4,>=1.1.0 in /home/kunal/.local/lib/python3.12/site-packages (from sympy>=1.13.3->torch) (1.3.0)\n",
      "Requirement already satisfied: MarkupSafe>=2.0 in /home/kunal/.local/lib/python3.12/site-packages (from jinja2->torch) (3.0.3)\n",
      "Requirement already satisfied: charset_normalizer<4,>=2 in /home/kunal/.local/lib/python3.12/site-packages (from requests->transformers) (3.4.4)\n",
      "Requirement already satisfied: idna<4,>=2.5 in /home/kunal/.local/lib/python3.12/site-packages (from requests->transformers) (3.11)\n",
      "Requirement already satisfied: urllib3<3,>=1.21.1 in /home/kunal/.local/lib/python3.12/site-packages (from requests->transformers) (2.5.0)\n",
      "Requirement already satisfied: certifi>=2017.4.17 in /home/kunal/.local/lib/python3.12/site-packages (from requests->transformers) (2025.10.5)\n"
     ]
    }
   ],
   "source": [
    "!pip install --break-system-packages torch torchvision torchaudio transformers --index-url https://download.pytorch.org/whl/cpu"
   ]
  },
  {
   "cell_type": "code",
   "execution_count": null,
   "id": "8d48d59a",
   "metadata": {},
   "outputs": [],
   "source": [
    "#function to generate embeddings of the news articles that have affected AAPL stock prices in the time period.\n",
    "\n",
    "\n"
   ]
  },
  {
   "cell_type": "code",
   "execution_count": 2,
   "id": "482882e3",
   "metadata": {},
   "outputs": [
    {
     "name": "stderr",
     "output_type": "stream",
     "text": [
      "2025-10-17 22:39:11.316042: I external/local_xla/xla/tsl/cuda/cudart_stub.cc:31] Could not find cuda drivers on your machine, GPU will not be used.\n",
      "2025-10-17 22:39:11.316535: I tensorflow/core/util/port.cc:153] oneDNN custom operations are on. You may see slightly different numerical results due to floating-point round-off errors from different computation orders. To turn them off, set the environment variable `TF_ENABLE_ONEDNN_OPTS=0`.\n",
      "2025-10-17 22:39:11.359342: I tensorflow/core/platform/cpu_feature_guard.cc:210] This TensorFlow binary is optimized to use available CPU instructions in performance-critical operations.\n",
      "To enable the following instructions: AVX2 AVX_VNNI FMA, in other operations, rebuild TensorFlow with the appropriate compiler flags.\n",
      "2025-10-17 22:39:12.795788: I tensorflow/core/util/port.cc:153] oneDNN custom operations are on. You may see slightly different numerical results due to floating-point round-off errors from different computation orders. To turn them off, set the environment variable `TF_ENABLE_ONEDNN_OPTS=0`.\n",
      "2025-10-17 22:39:12.796049: I external/local_xla/xla/tsl/cuda/cudart_stub.cc:31] Could not find cuda drivers on your machine, GPU will not be used.\n"
     ]
    },
    {
     "name": "stdout",
     "output_type": "stream",
     "text": [
      "📰 The company reported record profits this quarter.\n",
      "→ Financial Sentiment: positive\n",
      "→ Probabilities: [0.949 0.021 0.029]\n",
      "\n",
      "📰 The market reacted negatively to the CEO's resignation.\n",
      "→ Financial Sentiment: negative\n",
      "→ Probabilities: [0.009 0.962 0.029]\n",
      "\n",
      "📰 The firm's outlook for the next year remains uncertain.\n",
      "→ Financial Sentiment: neutral\n",
      "→ Probabilities: [0.029 0.194 0.777]\n",
      "\n",
      "📰 Revenue fell steadily despite global challenges.\n",
      "→ Financial Sentiment: negative\n",
      "→ Probabilities: [0.015 0.971 0.014]\n",
      "\n",
      "📰 Investors are worried about rising interest rates.\n",
      "→ Financial Sentiment: negative\n",
      "→ Probabilities: [0.032 0.887 0.081]\n",
      "\n"
     ]
    }
   ],
   "source": [
    "from transformers import AutoTokenizer, AutoModelForSequenceClassification\n",
    "import torch\n",
    "\n",
    "# === Load FinBERT Model and Tokenizer ===\n",
    "model_name = \"ProsusAI/finbert\"\n",
    "tokenizer = AutoTokenizer.from_pretrained(model_name)\n",
    "model = AutoModelForSequenceClassification.from_pretrained(model_name).to(\"cpu\")\n",
    "\n",
    "# === Correct Label Mapping ===\n",
    "# FinBERT labels order (index -> label) = {0: positive, 1: negative, 2: neutral}\n",
    "labels = [\"positive\", \"negative\", \"neutral\"]\n",
    "\n",
    "# === Define Sentiment Analysis Function ===\n",
    "def analyze_sentiment(text):\n",
    "    inputs = tokenizer(text, return_tensors=\"pt\", truncation=True, padding=True)\n",
    "    with torch.no_grad():\n",
    "        logits = model(**inputs).logits\n",
    "    probs = torch.nn.functional.softmax(logits, dim=-1).numpy()[0]\n",
    "    sentiment = labels[probs.argmax()]\n",
    "    return sentiment, probs\n",
    "\n",
    "# === Test Sentences ===\n",
    "texts = [\n",
    "    \"The company reported record profits this quarter.\",\n",
    "    \"The market reacted negatively to the CEO's resignation.\",\n",
    "    \"The firm's outlook for the next year remains uncertain.\",\n",
    "    \"Revenue fell steadily despite global challenges.\",\n",
    "    \"Investors are worried about rising interest rates.\"\n",
    "]\n",
    "\n",
    "# === Run Inference ===\n",
    "for text in texts:\n",
    "    sentiment, probs = analyze_sentiment(text)\n",
    "    print(f\"📰 {text}\")\n",
    "    print(f\"→ Financial Sentiment: {sentiment}\")\n",
    "    print(f\"→ Probabilities: {probs.round(3)}\\n\")\n"
   ]
  },
  {
   "cell_type": "code",
   "execution_count": null,
   "id": "4ec9954f",
   "metadata": {},
   "outputs": [],
   "source": []
  }
 ],
 "metadata": {
  "kernelspec": {
   "display_name": "Python 3",
   "language": "python",
   "name": "python3"
  },
  "language_info": {
   "codemirror_mode": {
    "name": "ipython",
    "version": 3
   },
   "file_extension": ".py",
   "mimetype": "text/x-python",
   "name": "python",
   "nbconvert_exporter": "python",
   "pygments_lexer": "ipython3",
   "version": "3.12.3"
  }
 },
 "nbformat": 4,
 "nbformat_minor": 5
}
