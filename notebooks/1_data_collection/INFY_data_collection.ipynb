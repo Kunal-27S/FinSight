{
 "cells": [
  {
   "cell_type": "code",
   "execution_count": null,
   "id": "ea9e7487",
   "metadata": {},
   "outputs": [
    {
     "name": "stderr",
     "output_type": "stream",
     "text": [
      "/tmp/ipykernel_21500/1415748086.py:10: FutureWarning: YF.download() has changed argument auto_adjust default to True\n",
      "  df_stock = yf.download(ticker, start=\"2021-01-01\", end=\"2024-12-31\")\n",
      "[*********************100%***********************]  1 of 1 completed\n"
     ]
    }
   ],
   "source": [
    "import os\n",
    "import yfinance as yf\n",
    "import pandas as pd\n",
    "\n",
    "# Create directory if not exists\n",
    "os.makedirs(\"data/stock_prices\", exist_ok=True)\n",
    "\n",
    "# Download stock data\n",
    "ticker = \"INFY.NS\"\n",
    "df_stock = yf.download(ticker, start=\"2021-01-01\", end=\"2024-12-31\")"
   ]
  },
  {
   "cell_type": "code",
   "execution_count": null,
   "id": "b70c85fa",
   "metadata": {},
   "outputs": [],
   "source": []
  }
 ],
 "metadata": {
  "kernelspec": {
   "display_name": "Python 3",
   "language": "python",
   "name": "python3"
  },
  "language_info": {
   "codemirror_mode": {
    "name": "ipython",
    "version": 3
   },
   "file_extension": ".py",
   "mimetype": "text/x-python",
   "name": "python",
   "nbconvert_exporter": "python",
   "pygments_lexer": "ipython3",
   "version": "3.12.3"
  }
 },
 "nbformat": 4,
 "nbformat_minor": 5
}
